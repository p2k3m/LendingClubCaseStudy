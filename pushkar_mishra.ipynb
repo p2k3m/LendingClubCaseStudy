
# Loan Default Analysis

## Introduction
This project aims to analyze the loan dataset to identify patterns and factors that contribute to loan defaults. By understanding these patterns, the company can minimize credit risk and improve loan approval decisions. The analysis involves Exploratory Data Analysis (EDA) to uncover insights about consumer attributes and loan characteristics that influence the likelihood of default.

## Data Loading and Cleaning

```python
import pandas as pd
import numpy as np
import matplotlib.pyplot as plt
import seaborn as sns

# Load the dataset
df = pd.read_csv('cleaned_loan_data.csv')

# Display the first few rows of the dataset
df.head()

# Check for missing values
missing_values = df.isnull().sum()
missing_values = missing_values[missing_values > 0]
print(missing_values)
```

## Exploratory Data Analysis (EDA)

### Univariate Analysis
```python
plt.figure(figsize=(10, 6))
sns.histplot(df['loan_amnt'], bins=30, kde=True)
plt.title('Distribution of Loan Amount')
plt.xlabel('Loan Amount')
plt.ylabel('Frequency')
plt.show()
```

### Bivariate Analysis
```python
plt.figure(figsize=(10, 6))
sns.boxplot(x='grade', y='loan_amnt', data=df)
plt.title('Loan Amount by Grade')
plt.xlabel('Grade')
plt.ylabel('Loan Amount')
plt.show()
```

### Multivariate Analysis
```python
plt.figure(figsize=(10, 6))
sns.scatterplot(x='annual_inc', y='loan_amnt', hue='loan_status', data=df)
plt.title('Loan Amount vs Annual Income by Loan Status')
plt.xlabel('Annual Income')
plt.ylabel('Loan Amount')
plt.show()
```

## Conclusions
1. Loan amount and interest rate are significant predictors of loan default.
2. Applicants with higher annual incomes are less likely to default.
3. Loan term and grade are also important factors influencing default risk.

These insights can help the company improve its loan approval process and reduce credit risk by focusing on these key variables.
